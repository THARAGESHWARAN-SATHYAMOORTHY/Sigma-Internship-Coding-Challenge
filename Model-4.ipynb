{
 "cells": [
  {
   "cell_type": "code",
   "execution_count": 1,
   "id": "0f09b156-1c18-4e0f-aa57-9d6ea026272b",
   "metadata": {
    "tags": []
   },
   "outputs": [
    {
     "name": "stdout",
     "output_type": "stream",
     "text": [
      "Portfolio Value: 17\n",
      "Optimal Index: [6, 8, 12, 16, 21, 28, 30, 41, 50, 52, 59, 61, 69, 79, 85, 88, 94, 100, 103, 108, 110, 113, 117, 120, 123, 133, 142, 160, 164, 177, 187, 191, 207, 209, 212, 216, 218, 232, 234, 238]\n",
      "Transition Distribution:\n",
      "          Bear      Flat      Bull\n",
      "Bear  0.138889  0.722222  0.138889\n",
      "Flat  0.146497  0.598726  0.254777\n",
      "Bull  0.125000  0.678571  0.196429\n"
     ]
    }
   ],
   "source": [
    "from quantrocket import get_prices\n",
    "import pandas as pd\n",
    "import numpy as np\n",
    "\n",
    "class MarketModel:\n",
    "    def __init__(self, ticker, start_date, end_date):\n",
    "        self.ticker = ticker\n",
    "        self.start_date = start_date\n",
    "        self.end_date = end_date\n",
    "        self.close_prices = None\n",
    "        self.returns = None\n",
    "        self.states = None\n",
    "        self.state_transitions = None\n",
    "        self.portfolio_value = 0\n",
    "        self.optimal_buy_indices = []\n",
    "\n",
    "    def fetch_data(self):\n",
    "        apple_data = get_prices(\"usstock-free-1d\", universes=\"usstock-free\", start_date=self.start_date, end_date=self.end_date, fields=[\"Close\"])\n",
    "        self.close_prices = apple_data[self.ticker]\n",
    "\n",
    "    def calculate_returns(self):\n",
    "        self.returns = self.close_prices.pct_change()\n",
    "\n",
    "    def classify_states(self):\n",
    "        self.states = np.where(self.returns >= 0.01, 1, np.where(self.returns > -0.01, 0, -1))\n",
    "\n",
    "    def implement_value_function(self):\n",
    "        self.state_transitions = np.zeros((3, 3))\n",
    "        for i in range(1, len(self.states)):\n",
    "            if self.states[i] == 1 and self.states[i-1] == 0:\n",
    "                self.portfolio_value += 1\n",
    "                self.optimal_buy_indices.append(i)\n",
    "            elif self.states[i] == -1 and self.states[i-1] == 0:\n",
    "                self.portfolio_value -= 1\n",
    "            self.state_transitions[self.states[i-1] + 1, self.states[i] + 1] += 1\n",
    "\n",
    "    def calculate_transition_distribution(self):\n",
    "        self.transition_distribution = np.zeros_like(self.state_transitions)\n",
    "        for i in range(len(self.state_transitions)):\n",
    "            row_sum = np.sum(self.state_transitions[i])\n",
    "            if row_sum != 0:\n",
    "                self.transition_distribution[i] = self.state_transitions[i] / row_sum\n",
    "\n",
    "\n",
    "    def print_results(self):\n",
    "        print(\"Portfolio Value:\", self.portfolio_value)\n",
    "        print(\"Optimal Index:\", self.optimal_buy_indices)\n",
    "        print(\"Transition Distribution:\")\n",
    "        print(pd.DataFrame(self.transition_distribution, index=['Bear', 'Flat', 'Bull'], columns=['Bear', 'Flat', 'Bull']))\n",
    "        \n",
    "if __name__ == \"__main__\":\n",
    "    model = MarketModel('FIBBG000B9XRY4', '2023-01-01', '2023-12-31')\n",
    "    model.fetch_data()\n",
    "    model.calculate_returns()\n",
    "    model.classify_states()\n",
    "    model.implement_value_function()\n",
    "    model.calculate_transition_distribution()\n",
    "    model.print_results()\n"
   ]
  },
  {
   "cell_type": "code",
   "execution_count": 2,
   "id": "f1b6e367-215e-482c-bcf5-c4f9564c0cc0",
   "metadata": {
    "tags": []
   },
   "outputs": [
    {
     "name": "stdout",
     "output_type": "stream",
     "text": [
      "Portfolio Value: 17\n",
      "Optimal Index: [4, 7, 10, 22, 24, 28, 40, 58, 69, 78, 94, 96, 103, 107, 109, 113, 118, 127, 129, 133, 137, 142, 150, 160, 164, 167, 188, 195, 207, 212, 218, 230, 235, 241, 249]\n",
      "Transition Distribution:\n",
      "          Bear      Flat      Bull\n",
      "Bear  0.246154  0.276923  0.476923\n",
      "Flat  0.193548  0.430108  0.376344\n",
      "Bull  0.319149  0.382979  0.297872\n"
     ]
    }
   ],
   "source": [
    "    model = MarketModel('FIBBG000B9XRY4', '2020-01-01', '2020-12-31')\n",
    "    model.fetch_data()\n",
    "    model.calculate_returns()\n",
    "    model.classify_states()\n",
    "    model.implement_value_function()\n",
    "    model.calculate_transition_distribution()\n",
    "    model.print_results()"
   ]
  },
  {
   "cell_type": "code",
   "execution_count": 3,
   "id": "e7f01ff9-40aa-4012-9753-aaf8f440c4f6",
   "metadata": {
    "tags": []
   },
   "outputs": [
    {
     "name": "stdout",
     "output_type": "stream",
     "text": [
      "Portfolio Value: 18\n",
      "Optimal Index: [4, 16, 22, 35, 40, 46, 49, 54, 62, 66, 73, 76, 84, 115, 124, 136, 145, 154, 157, 160, 166, 173, 184, 187, 191, 202, 204, 206, 210, 215, 221, 227, 229, 234, 240, 246, 248]\n",
      "Transition Distribution:\n",
      "          Bear      Flat      Bull\n",
      "Bear  0.275000  0.400000  0.325000\n",
      "Flat  0.137681  0.594203  0.268116\n",
      "Bull  0.123288  0.561644  0.315068\n"
     ]
    }
   ],
   "source": [
    "    model = MarketModel('FIBBG000B9XRY4', '2019-01-01', '2019-12-31')\n",
    "    model.fetch_data()\n",
    "    model.calculate_returns()\n",
    "    model.classify_states()\n",
    "    model.implement_value_function()\n",
    "    model.calculate_transition_distribution()\n",
    "    model.print_results()"
   ]
  },
  {
   "cell_type": "code",
   "execution_count": 4,
   "id": "6fe526a3-9217-4050-b689-58f1ffd4ddfa",
   "metadata": {
    "tags": []
   },
   "outputs": [
    {
     "name": "stdout",
     "output_type": "stream",
     "text": [
      "Portfolio Value: 129\n",
      "Optimal Index: [4, 24, 32, 39, 46, 51, 53, 56, 75, 77, 85, 89, 93, 95, 101, 125, 131, 136, 159, 174, 176, 178, 181, 185, 187, 198, 208, 213, 225, 227, 233, 244, 269, 271, 277, 289, 303, 312, 316, 319, 323, 325, 331, 334, 336, 341, 350, 354, 358, 365, 372, 403, 413, 464, 519, 527, 545, 554, 558, 561, 565, 575, 580, 586, 597, 606, 608, 620, 634, 637, 639, 642, 644, 648, 650, 663, 674, 681, 689, 695, 705, 716, 719, 723, 729, 740, 743, 751, 756, 777, 781, 783, 785, 793, 798, 800, 815, 818, 825, 836, 845, 856, 868, 883, 894, 897, 901, 912, 923, 925, 927, 930, 933, 935, 937, 939, 949, 951, 954, 978, 980, 1008, 1013, 1028, 1032, 1045, 1049, 1064, 1078, 1102, 1107, 1110, 1120, 1127, 1133, 1136, 1140, 1142, 1145, 1147, 1153, 1163, 1169, 1172, 1183, 1186, 1199, 1205, 1212, 1215, 1220, 1223, 1236, 1238, 1252, 1255, 1260, 1262, 1269, 1278, 1282, 1284, 1288, 1293, 1296, 1298, 1305, 1307, 1312, 1317, 1325, 1356, 1358, 1361, 1367, 1369, 1375, 1384, 1389, 1393, 1397, 1403, 1408, 1414, 1418, 1424, 1429, 1435, 1450, 1459, 1481, 1484, 1488, 1496, 1524, 1535, 1545, 1556, 1560, 1565, 1577, 1585, 1589, 1593, 1597, 1605, 1612, 1634, 1639, 1641, 1653, 1657, 1668, 1679, 1682, 1712, 1715, 1722, 1730, 1735, 1738, 1742, 1756, 1761, 1770, 1784, 1787, 1791, 1800, 1817, 1829, 1835, 1841, 1846, 1851, 1855, 1860, 1863, 1866, 1870, 1884, 1889, 1894, 1901, 1904, 1914, 1916, 1919, 1926, 1935, 1944, 1955, 1966, 1969, 1973, 1980, 1984, 1986, 1988, 1990, 1994, 2007, 2010, 2017, 2025, 2027, 2040, 2048, 2063, 2073, 2077, 2089, 2092, 2101, 2105, 2107, 2110, 2123, 2148, 2150, 2165, 2170, 2177, 2185, 2194, 2215, 2217, 2221, 2224, 2236, 2247, 2260, 2271, 2279, 2284, 2295, 2305, 2308, 2313, 2315, 2324, 2328, 2334, 2349, 2358, 2360, 2362, 2390, 2399, 2401, 2408, 2411, 2415, 2421, 2460, 2480, 2490, 2503, 2505, 2521, 2533, 2538, 2547, 2557, 2567, 2570, 2576, 2592, 2599, 2603, 2608, 2622, 2646, 2650, 2657, 2664, 2667, 2678, 2682, 2695, 2702, 2709, 2716, 2725, 2730, 2742, 2755, 2759, 2772, 2777, 2779, 2805, 2814, 2831, 2836, 2841, 2854, 2858, 2873, 2894, 2897, 2915, 2926, 2935, 2937, 2955, 2959, 2963, 2966, 2979, 2998, 3001, 3008, 3011, 3024, 3036, 3042, 3055, 3060, 3066, 3069, 3074, 3082, 3086, 3093, 3096, 3104, 3135, 3144, 3156, 3165, 3174, 3177, 3180, 3186, 3193, 3204, 3207, 3211, 3222, 3224, 3226, 3230, 3235, 3241, 3247, 3249, 3254, 3260, 3266, 3268, 3272, 3276, 3279, 3282, 3294, 3296, 3300, 3312, 3330, 3341, 3350, 3366, 3368, 3375, 3379, 3381, 3385, 3390, 3399, 3401, 3405, 3409, 3414, 3422, 3432, 3436, 3439, 3460, 3467, 3479, 3484, 3490, 3502, 3507, 3513, 3521, 3532, 3536, 3547, 3563, 3571, 3573, 3578, 3587, 3589, 3610, 3620, 3636, 3639, 3646, 3650, 3654, 3657, 3664, 3671, 3678, 3680, 3684, 3690, 3695, 3706, 3722, 3724, 3732, 3743, 3746, 3762, 3765, 3769, 3772, 3777, 3783, 3795, 3802, 3807, 3829, 3831, 3833, 3836, 3840, 3850, 3857, 3861, 3874, 3877, 3881, 3884, 3890, 3895, 3904, 3909, 3918, 3920, 3923, 3928, 3930, 3939, 3949, 3973, 3979, 3996, 3998, 4014, 4021, 4034, 4036, 4040, 4044, 4049, 4056, 4058, 4069, 4078, 4080, 4087, 4089, 4097, 4107, 4113, 4116, 4122, 4128, 4131, 4136, 4138, 4141, 4145, 4148, 4151, 4161, 4170, 4188, 4192, 4205, 4215, 4219, 4235, 4237, 4240, 4244, 4246, 4260, 4262, 4266]\n",
      "Transition Distribution:\n",
      "          Bear      Flat      Bull\n",
      "Bear  0.270270  0.398919  0.330811\n",
      "Flat  0.197314  0.545623  0.257063\n",
      "Bull  0.207879  0.513831  0.278290\n"
     ]
    }
   ],
   "source": [
    "    model = MarketModel('FIBBG000B9XRY4', '2007-01-01', '2023-12-31')\n",
    "    model.fetch_data()\n",
    "    model.calculate_returns()\n",
    "    model.classify_states()\n",
    "    model.implement_value_function()\n",
    "    model.calculate_transition_distribution()\n",
    "    model.print_results()"
   ]
  },
  {
   "cell_type": "code",
   "execution_count": null,
   "id": "066a44ed-b769-4f63-a724-2b80d5d43d8b",
   "metadata": {},
   "outputs": [],
   "source": []
  }
 ],
 "metadata": {
  "kernelspec": {
   "display_name": "Python 3.9",
   "language": "python",
   "name": "python3"
  },
  "language_info": {
   "codemirror_mode": {
    "name": "ipython",
    "version": 3
   },
   "file_extension": ".py",
   "mimetype": "text/x-python",
   "name": "python",
   "nbconvert_exporter": "python",
   "pygments_lexer": "ipython3",
   "version": "3.9.7"
  }
 },
 "nbformat": 4,
 "nbformat_minor": 5
}
