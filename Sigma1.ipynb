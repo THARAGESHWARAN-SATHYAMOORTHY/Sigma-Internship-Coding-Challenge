{
 "cells": [
  {
   "cell_type": "code",
   "execution_count": 93,
   "id": "94e9ee92-bef4-47be-a4aa-1a8ed577fb2a",
   "metadata": {
    "tags": []
   },
   "outputs": [],
   "source": [
    "from quantrocket import get_prices\n",
    "import pandas as pd\n",
    "import numpy as np"
   ]
  },
  {
   "cell_type": "code",
   "execution_count": 88,
   "id": "b3cec88a-ff34-47b6-a320-032fd8fdadf2",
   "metadata": {
    "tags": []
   },
   "outputs": [
    {
     "name": "stdout",
     "output_type": "stream",
     "text": [
      "\n",
      "                   Open        High         Low       Close   Adj Close  \\\n",
      "Date                                                                     \n",
      "2020-01-02   74.059998   75.150002   73.797501   75.087502   73.059441   \n",
      "2020-01-03   74.287498   75.144997   74.125000   74.357498   72.349152   \n",
      "2020-01-06   73.447502   74.989998   73.187500   74.949997   72.925629   \n",
      "2020-01-07   74.959999   75.224998   74.370003   74.597504   72.582642   \n",
      "2020-01-08   74.290001   76.110001   74.290001   75.797501   73.750244   \n",
      "...                ...         ...         ...         ...         ...   \n",
      "2020-12-23  132.160004  132.429993  130.779999  130.960007  128.523270   \n",
      "2020-12-24  131.320007  133.460007  131.100006  131.970001  129.514465   \n",
      "2020-12-28  133.990005  137.339996  133.509995  136.690002  134.146622   \n",
      "2020-12-29  138.050003  138.789993  134.339996  134.869995  132.360489   \n",
      "2020-12-30  135.580002  135.990005  133.399994  133.720001  131.231903   \n",
      "\n",
      "               Volume  \n",
      "Date                   \n",
      "2020-01-02  135480400  \n",
      "2020-01-03  146322800  \n",
      "2020-01-06  118387200  \n",
      "2020-01-07  108872000  \n",
      "2020-01-08  132079200  \n",
      "...               ...  \n",
      "2020-12-23   88223700  \n",
      "2020-12-24   54930100  \n",
      "2020-12-28  124486200  \n",
      "2020-12-29  121047300  \n",
      "2020-12-30   96452100  \n",
      "\n",
      "[252 rows x 6 columns]\n"
     ]
    }
   ],
   "source": [
    "# Step 1: Fetch daily close prices of Apple stock for the year 2023\n",
    "start_date = '2007-01-01'\n",
    "end_date = '2023-12-31'\n",
    "prices = get_prices(\"usstock-free-1d\", universes=\"usstock-free\", start_date=start_date, end_date=end_date, fields=[\"Close\"])\n",
    "close_prices = prices['FIBBG000B9XRY4']\n",
    "\n",
    "print('\\n',apple_data)"
   ]
  },
  {
   "cell_type": "code",
   "execution_count": 89,
   "id": "7a731ca8-2530-4f87-95a3-8af318d647c4",
   "metadata": {
    "tags": []
   },
   "outputs": [
    {
     "name": "stdout",
     "output_type": "stream",
     "text": [
      "Field  Date      \n",
      "Close  2007-01-03         NaN\n",
      "       2007-01-04    0.022169\n",
      "       2007-01-05   -0.007113\n",
      "       2007-01-08    0.004945\n",
      "       2007-01-09    0.083069\n",
      "                       ...   \n",
      "       2023-12-22   -0.005547\n",
      "       2023-12-26   -0.002841\n",
      "       2023-12-27    0.000518\n",
      "       2023-12-28    0.002226\n",
      "       2023-12-29   -0.005424\n",
      "Name: FIBBG000B9XRY4, Length: 4278, dtype: float64\n",
      "[-1  0  0 ...  0  0  0]\n"
     ]
    }
   ],
   "source": [
    "# Step 2: Calculate daily returns and classify states\n",
    "returns = close_prices.pct_change()\n",
    "print(returns)\n",
    "states = np.where(returns >= 0.1, 1, np.where(returns > -0.1, 0, -1))\n",
    "print(states)"
   ]
  },
  {
   "cell_type": "code",
   "execution_count": 90,
   "id": "4938dd84-7632-487f-bbba-ba02dd066b0d",
   "metadata": {
    "tags": []
   },
   "outputs": [],
   "source": [
    "# Step 3: Implement the value function\n",
    "portfolio_value = 0\n",
    "state_transitions = np.zeros((3, 3))\n",
    "optimal_buy_indices = []\n",
    "\n",
    "for i in range(1, len(states)):\n",
    "    if states[i] == 1 and states[i-1] == 0:\n",
    "        portfolio_value += 1\n",
    "        optimal_buy_indices.append(i-1)\n",
    "    elif states[i] == -1 and states[i-1] == 0:\n",
    "        portfolio_value -= 1\n",
    "\n",
    "    state_transitions[states[i-1] + 1, states[i] + 1] += 1"
   ]
  },
  {
   "cell_type": "code",
   "execution_count": 91,
   "id": "553525bd-75e6-409b-9019-479cab8f0b14",
   "metadata": {
    "tags": []
   },
   "outputs": [
    {
     "name": "stdout",
     "output_type": "stream",
     "text": [
      "[[0.00000000e+00 1.00000000e+00 0.00000000e+00]\n",
      " [7.03234880e-04 9.97890295e-01 1.40646976e-03]\n",
      " [1.66666667e-01 8.33333333e-01 0.00000000e+00]]\n"
     ]
    }
   ],
   "source": [
    "# Step 4: Calculate transition distribution\n",
    "transition_distribution = np.zeros_like(state_transitions)\n",
    "# Calculate transition distribution, handling division by zero\n",
    "for i in range(len(state_transitions)):\n",
    "    row_sum = np.sum(state_transitions[i])\n",
    "    if row_sum != 0:\n",
    "        transition_distribution[i] = state_transitions[i] / row_sum\n",
    "print(transition_distribution)"
   ]
  },
  {
   "cell_type": "code",
   "execution_count": 92,
   "id": "f0621d59-4882-4815-b3ec-093639a0405b",
   "metadata": {
    "tags": []
   },
   "outputs": [
    {
     "name": "stdout",
     "output_type": "stream",
     "text": [
      "Portfolio Value: 3\n",
      "Optimal Index: [217, 447, 477, 3320, 3327, 3417]\n",
      "Transition Distribution:\n",
      "          Bear      Flat      Bull\n",
      "Bear  0.000000  1.000000  0.000000\n",
      "Flat  0.000703  0.997890  0.001406\n",
      "Bull  0.166667  0.833333  0.000000\n"
     ]
    }
   ],
   "source": [
    "print(\"Portfolio Value:\", portfolio_value)\n",
    "print(\"Optimal Index:\",optimal_buy_indices)\n",
    "print(\"Transition Distribution:\")\n",
    "print(pd.DataFrame(transition_distribution, index=['Bear', 'Flat', 'Bull'], columns=['Bear', 'Flat', 'Bull']))"
   ]
  }
 ],
 "metadata": {
  "kernelspec": {
   "display_name": "Python 3.9",
   "language": "python",
   "name": "python3"
  },
  "language_info": {
   "codemirror_mode": {
    "name": "ipython",
    "version": 3
   },
   "file_extension": ".py",
   "mimetype": "text/x-python",
   "name": "python",
   "nbconvert_exporter": "python",
   "pygments_lexer": "ipython3",
   "version": "3.9.7"
  }
 },
 "nbformat": 4,
 "nbformat_minor": 5
}
