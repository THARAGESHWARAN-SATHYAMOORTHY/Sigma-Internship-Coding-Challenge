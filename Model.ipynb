{
 "cells": [
  {
   "cell_type": "code",
   "execution_count": 5,
   "id": "0f09b156-1c18-4e0f-aa57-9d6ea026272b",
   "metadata": {
    "tags": []
   },
   "outputs": [
    {
     "name": "stdout",
     "output_type": "stream",
     "text": [
      "Portfolio Value: 17\n",
      "Optimal Index: [7, 11, 15, 20, 27, 29, 40, 49, 51, 58, 60, 68, 78, 84, 87, 93, 99, 102, 107, 109, 112, 116, 119, 122, 132, 141, 159, 163, 176, 186, 190, 206, 208, 211, 215, 217, 231, 233, 237]\n",
      "Length: 39\n",
      "Transition Distribution:\n",
      "          Bear      Flat      Bull\n",
      "Bear  0.153846  0.692308  0.153846\n",
      "Flat  0.150000  0.593750  0.256250\n",
      "Bull  0.135593  0.661017  0.203390\n"
     ]
    }
   ],
   "source": [
    "from quantrocket import get_prices\n",
    "import pandas as pd\n",
    "import numpy as np\n",
    "\n",
    "class PortfolioOptimizer:\n",
    "    def __init__(self, ticker, start_date, end_date):\n",
    "        self.ticker = ticker\n",
    "        self.start_date = start_date\n",
    "        self.end_date = end_date\n",
    "\n",
    "    def download_data(self):\n",
    "        apple_data = get_prices(\"usstock-free-1d\", universes=\"usstock-free\", start_date=self.start_date, end_date=self.end_date, fields=[\"Close\"])\n",
    "        self.close_prices = apple_data[self.ticker]\n",
    "\n",
    "    def calculate_returns(self):\n",
    "        self.returns = self.close_prices.pct_change()\n",
    "\n",
    "    def calculate_states(self):\n",
    "        self.states = np.where(self.returns >= 0.01, 1, np.where(self.returns > -0.01, 0, -1))\n",
    "\n",
    "    def optimize_portfolio(self):\n",
    "        self.portfolio_value = 0\n",
    "        self.state_transitions = np.ones((3, 3))\n",
    "        self.optimal_buy_indices = []\n",
    "\n",
    "        for i in range(1, len(self.states)):\n",
    "            transition_distribution = self.state_transitions / (np.sum(self.state_transitions, axis=1)[:, None]+ 1e-9)\n",
    "            if self.states[i] == 1 and self.states[i-1] == 0 and transition_distribution[1, 2] > transition_distribution[1, 0]:\n",
    "                self.portfolio_value += 1\n",
    "                self.optimal_buy_indices.append(i-1)\n",
    "                self.state_transitions[self.states[i-1] + 1, self.states[i] + 1] += 1\n",
    "            elif self.states[i] == -1 and self.states[i-1] == 0 and transition_distribution[0, 1] > transition_distribution[0, 2]:\n",
    "                self.portfolio_value -= 1\n",
    "                self.state_transitions[self.states[i-1] + 1, self.states[i] + 1] += 1\n",
    "            else:\n",
    "                self.state_transitions[self.states[i-1] + 1, self.states[i] + 1] += 1\n",
    "                continue\n",
    "\n",
    "        self.transition_distribution = self.state_transitions / np.sum(self.state_transitions, axis=1)[:, None]\n",
    "\n",
    "    def print_results(self):\n",
    "        print(\"Portfolio Value:\", self.portfolio_value)\n",
    "        print(\"Optimal Index:\", self.optimal_buy_indices)\n",
    "        print(\"Length:\", len(self.optimal_buy_indices))\n",
    "        print(\"Transition Distribution:\")\n",
    "        print(pd.DataFrame(self.transition_distribution, index=['Bear', 'Flat', 'Bull'], columns=['Bear', 'Flat', 'Bull']))\n",
    "\n",
    "# Example Usage:\n",
    "if __name__ == \"__main__\":\n",
    "    portfolio_optimizer = PortfolioOptimizer('FIBBG000B9XRY4', '2023-01-01', '2023-12-31')\n",
    "    portfolio_optimizer.download_data()\n",
    "    portfolio_optimizer.calculate_returns()\n",
    "    portfolio_optimizer.calculate_states()\n",
    "    portfolio_optimizer.optimize_portfolio()\n",
    "    portfolio_optimizer.print_results()\n"
   ]
  },
  {
   "cell_type": "code",
   "execution_count": 6,
   "id": "f1b6e367-215e-482c-bcf5-c4f9564c0cc0",
   "metadata": {
    "tags": []
   },
   "outputs": [
    {
     "name": "stdout",
     "output_type": "stream",
     "text": [
      "Portfolio Value: 31\n",
      "Optimal Index: [6, 9, 21, 23, 27, 39, 57, 68, 77, 93, 95, 102, 106, 108, 112, 117, 126, 128, 132, 136, 141, 149, 159, 163, 166, 187, 194, 206, 211, 217, 229, 234, 240, 248]\n",
      "Length: 34\n",
      "Transition Distribution:\n",
      "          Bear      Flat      Bull\n",
      "Bear  0.250000  0.279412  0.470588\n",
      "Flat  0.197917  0.427083  0.375000\n",
      "Bull  0.319588  0.381443  0.298969\n"
     ]
    }
   ],
   "source": [
    "    portfolio_optimizer = PortfolioOptimizer('FIBBG000B9XRY4', '2020-01-01', '2020-12-31')\n",
    "    portfolio_optimizer.download_data()\n",
    "    portfolio_optimizer.calculate_returns()\n",
    "    portfolio_optimizer.calculate_states()\n",
    "    portfolio_optimizer.optimize_portfolio()\n",
    "    portfolio_optimizer.print_results()"
   ]
  },
  {
   "cell_type": "code",
   "execution_count": 7,
   "id": "e7f01ff9-40aa-4012-9753-aaf8f440c4f6",
   "metadata": {
    "tags": []
   },
   "outputs": [
    {
     "name": "stdout",
     "output_type": "stream",
     "text": [
      "Portfolio Value: 28\n",
      "Optimal Index: [48, 53, 61, 65, 72, 75, 83, 114, 123, 135, 144, 153, 156, 159, 165, 172, 183, 186, 190, 201, 203, 205, 209, 214, 220, 226, 228, 233, 239, 245, 247]\n",
      "Length: 31\n",
      "Transition Distribution:\n",
      "          Bear      Flat      Bull\n",
      "Bear  0.279070  0.395349  0.325581\n",
      "Flat  0.141844  0.588652  0.269504\n",
      "Bull  0.131579  0.552632  0.315789\n"
     ]
    }
   ],
   "source": [
    "    portfolio_optimizer = PortfolioOptimizer('FIBBG000B9XRY4', '2019-01-01', '2019-12-31')\n",
    "    portfolio_optimizer.download_data()\n",
    "    portfolio_optimizer.calculate_returns()\n",
    "    portfolio_optimizer.calculate_states()\n",
    "    portfolio_optimizer.optimize_portfolio()\n",
    "    portfolio_optimizer.print_results()"
   ]
  },
  {
   "cell_type": "code",
   "execution_count": 9,
   "id": "6fe526a3-9217-4050-b689-58f1ffd4ddfa",
   "metadata": {
    "tags": []
   },
   "outputs": [
    {
     "name": "stdout",
     "output_type": "stream",
     "text": [
      "Portfolio Value: 311\n",
      "Optimal Index: [52, 55, 84, 88, 92, 94, 100, 124, 130, 135, 158, 173, 175, 177, 180, 184, 186, 197, 207, 212, 224, 226, 232, 243, 268, 270, 276, 288, 302, 311, 315, 318, 322, 324, 330, 333, 335, 340, 349, 353, 357, 364, 371, 402, 412, 463, 518, 526, 544, 553, 557, 560, 564, 574, 579, 585, 596, 605, 607, 619, 633, 636, 638, 641, 643, 647, 649, 662, 673, 680, 688, 694, 704, 715, 718, 722, 728, 739, 742, 750, 755, 776, 780, 782, 784, 792, 797, 799, 814, 817, 824, 835, 844, 855, 867, 882, 893, 896, 900, 911, 922, 924, 926, 929, 932, 934, 936, 938, 948, 950, 953, 977, 979, 1007, 1012, 1027, 1031, 1044, 1048, 1063, 1077, 1101, 1106, 1109, 1119, 1126, 1132, 1135, 1139, 1141, 1144, 1146, 1152, 1162, 1168, 1171, 1182, 1185, 1198, 1204, 1211, 1214, 1219, 1222, 1235, 1237, 1251, 1254, 1259, 1261, 1268, 1277, 1281, 1283, 1287, 1292, 1295, 1297, 1304, 1306, 1311, 1316, 1324, 1355, 1357, 1360, 1366, 1368, 1374, 1383, 1388, 1392, 1396, 1402, 1407, 1413, 1417, 1423, 1428, 1434, 1449, 1458, 1480, 1483, 1487, 1495, 1523, 1534, 1544, 1555, 1559, 1564, 1576, 1584, 1588, 1592, 1596, 1604, 1611, 1633, 1638, 1640, 1652, 1656, 1667, 1678, 1681, 1711, 1714, 1721, 1729, 1734, 1737, 1741, 1755, 1760, 1769, 1783, 1786, 1790, 1799, 1816, 1828, 1834, 1840, 1845, 1850, 1854, 1859, 1862, 1865, 1869, 1883, 1888, 1893, 1900, 1903, 1913, 1915, 1918, 1925, 1934, 1943, 1954, 1965, 1968, 1972, 1979, 1983, 1985, 1987, 1989, 1993, 2006, 2009, 2016, 2024, 2026, 2039, 2047, 2062, 2072, 2076, 2088, 2091, 2100, 2104, 2106, 2109, 2122, 2147, 2149, 2164, 2169, 2176, 2184, 2193, 2214, 2216, 2220, 2223, 2235, 2246, 2259, 2270, 2278, 2283, 2294, 2304, 2307, 2312, 2314, 2323, 2327, 2333, 2348, 2357, 2359, 2361, 2389, 2398, 2400, 2407, 2410, 2414, 2420, 2459, 2479, 2489, 2502, 2504, 2520, 2532, 2537, 2546, 2556, 2566, 2569, 2575, 2591, 2598, 2602, 2607, 2621, 2645, 2649, 2656, 2663, 2666, 2677, 2681, 2694, 2701, 2708, 2715, 2724, 2729, 2741, 2754, 2758, 2771, 2776, 2778, 2804, 2813, 2830, 2835, 2840, 2853, 2857, 2872, 2893, 2896, 2914, 2925, 2934, 2936, 2954, 2958, 2962, 2965, 2978, 2997, 3000, 3007, 3010, 3023, 3035, 3041, 3054, 3059, 3065, 3068, 3073, 3081, 3085, 3092, 3095, 3103, 3134, 3143, 3155, 3164, 3173, 3176, 3179, 3185, 3192, 3203, 3206, 3210, 3221, 3223, 3225, 3229, 3234, 3240, 3246, 3248, 3253, 3259, 3265, 3267, 3271, 3275, 3278, 3281, 3293, 3295, 3299, 3311, 3329, 3340, 3349, 3365, 3367, 3374, 3378, 3380, 3384, 3389, 3398, 3400, 3404, 3408, 3413, 3421, 3431, 3435, 3438, 3459, 3466, 3478, 3483, 3489, 3501, 3506, 3512, 3520, 3531, 3535, 3546, 3562, 3570, 3572, 3577, 3586, 3588, 3609, 3619, 3635, 3638, 3645, 3649, 3653, 3656, 3663, 3670, 3677, 3679, 3683, 3689, 3694, 3705, 3721, 3723, 3731, 3742, 3745, 3761, 3764, 3768, 3771, 3776, 3782, 3794, 3801, 3806, 3828, 3830, 3832, 3835, 3839, 3849, 3856, 3860, 3873, 3876, 3880, 3883, 3889, 3894, 3903, 3908, 3917, 3919, 3922, 3927, 3929, 3938, 3948, 3972, 3978, 3995, 3997, 4013, 4020, 4033, 4035, 4039, 4043, 4048, 4055, 4057, 4068, 4077, 4079, 4086, 4088, 4096, 4106, 4112, 4115, 4121, 4127, 4130, 4135, 4137, 4140, 4144, 4147, 4150, 4160, 4169, 4187, 4191, 4204, 4214, 4218, 4234, 4236, 4239, 4243, 4245, 4259, 4261, 4265]\n",
      "Length: 547\n",
      "Transition Distribution:\n",
      "          Bear      Flat      Bull\n",
      "Bear  0.270474  0.398707  0.330819\n",
      "Flat  0.197502  0.545328  0.257169\n",
      "Bull  0.208194  0.513378  0.278428\n"
     ]
    }
   ],
   "source": [
    "    portfolio_optimizer = PortfolioOptimizer('FIBBG000B9XRY4', '2007-01-01', '2023-12-31')\n",
    "    portfolio_optimizer.download_data()\n",
    "    portfolio_optimizer.calculate_returns()\n",
    "    portfolio_optimizer.calculate_states()\n",
    "    portfolio_optimizer.optimize_portfolio()\n",
    "    portfolio_optimizer.print_results()"
   ]
  }
 ],
 "metadata": {
  "kernelspec": {
   "display_name": "Python 3.9",
   "language": "python",
   "name": "python3"
  },
  "language_info": {
   "codemirror_mode": {
    "name": "ipython",
    "version": 3
   },
   "file_extension": ".py",
   "mimetype": "text/x-python",
   "name": "python",
   "nbconvert_exporter": "python",
   "pygments_lexer": "ipython3",
   "version": "3.9.7"
  }
 },
 "nbformat": 4,
 "nbformat_minor": 5
}
