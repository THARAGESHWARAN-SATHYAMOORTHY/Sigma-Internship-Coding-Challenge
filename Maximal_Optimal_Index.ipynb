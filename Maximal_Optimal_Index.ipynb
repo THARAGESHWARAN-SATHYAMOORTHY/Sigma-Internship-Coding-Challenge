{
  "nbformat": 4,
  "nbformat_minor": 0,
  "metadata": {
    "colab": {
      "provenance": []
    },
    "kernelspec": {
      "name": "python3",
      "display_name": "Python 3"
    },
    "language_info": {
      "name": "python"
    }
  },
  "cells": [
    {
      "cell_type": "code",
      "execution_count": 2,
      "metadata": {
        "colab": {
          "base_uri": "https://localhost:8080/"
        },
        "id": "uhZFBhG6Repg",
        "outputId": "f1720c20-9c2d-43fb-b3c0-265767442ae8"
      },
      "outputs": [
        {
          "output_type": "stream",
          "name": "stdout",
          "text": [
            "[5, 7, 11, 15, 20, 27, 29, 84, 87, 93, 102, 107, 109, 112, 116, 119, 122, 233]\n"
          ]
        }
      ],
      "source": [
        "def find_optimal_portfolio(lst):\n",
        "    n = len(lst)\n",
        "    DP = [0] * n\n",
        "    indices = [[] for _ in range(n)]\n",
        "\n",
        "    for i in range(n):\n",
        "        DP[i] = lst[i][1]\n",
        "        indices[i].append(i)\n",
        "\n",
        "        for j in range(i):\n",
        "            if lst[i][1] > lst[j][1]:\n",
        "                if DP[j] + lst[i][1] > DP[i]:\n",
        "                    DP[i] = DP[j] + lst[i][1]\n",
        "                    indices[i] = indices[j] + [i]\n",
        "\n",
        "    max_index = DP.index(max(DP))\n",
        "    optimal_indices = indices[max_index]\n",
        "\n",
        "    return [lst[i][0] for i in optimal_indices]\n",
        "\n",
        "input_list = [[5, 1], [7, 2], [11, 3], [15, 4], [20, 5], [27, 6], [29, 7], [32, 6], [35, 5], [38, 4], [40, 5], [44, 4], [49, 5], [51, 6], [56, 5], [58, 6], [60, 7], [63, 6], [65, 5], [68, 6], [78, 7], [84, 8], [87, 9], [93, 10], [96, 9], [99, 10], [102, 11], [107, 12], [109, 13], [112, 14], [116, 15], [119, 16], [122, 17], [127, 16], [132, 17], [135, 16], [141, 17], [144, 16], [146, 15], [153, 14], [155, 13], [159, 14], [163, 15], [168, 14], [172, 13], [176, 14], [178, 13], [182, 12], [186, 13], [190, 14], [195, 13], [200, 12], [203, 11], [206, 12], [208, 13], [211, 14], [215, 15], [217, 16], [231, 17], [233, 18], [235, 17], [237, 18], [242, 17]]\n",
        "print(find_optimal_portfolio(input_list))\n"
      ]
    }
  ]
}