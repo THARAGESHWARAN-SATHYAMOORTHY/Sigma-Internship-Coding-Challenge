{
 "cells": [
  {
   "cell_type": "code",
   "execution_count": 1,
   "id": "94e9ee92-bef4-47be-a4aa-1a8ed577fb2a",
   "metadata": {
    "tags": []
   },
   "outputs": [],
   "source": [
    "from quantrocket import get_prices\n",
    "import pandas as pd\n",
    "import numpy as np"
   ]
  },
  {
   "cell_type": "code",
   "execution_count": 2,
   "id": "b3cec88a-ff34-47b6-a320-032fd8fdadf2",
   "metadata": {
    "tags": []
   },
   "outputs": [
    {
     "name": "stdout",
     "output_type": "stream",
     "text": [
      "\n",
      " Field  Date      \n",
      "Close  2023-01-03    124.2163\n",
      "       2023-01-04    125.4975\n",
      "       2023-01-05    124.1666\n",
      "       2023-01-06    128.7352\n",
      "       2023-01-09    129.2616\n",
      "                       ...   \n",
      "       2023-12-22    193.3533\n",
      "       2023-12-26    192.8040\n",
      "       2023-12-27    192.9038\n",
      "       2023-12-28    193.3333\n",
      "       2023-12-29    192.2846\n",
      "Name: FIBBG000B9XRY4, Length: 250, dtype: float64\n"
     ]
    }
   ],
   "source": [
    "# Step 1: Fetch daily close prices of Apple stock for the year 2023\n",
    "start_date = '2023-01-01'\n",
    "end_date = '2023-12-31'\n",
    "prices = get_prices(\"usstock-free-1d\", universes=\"usstock-free\", start_date=start_date, end_date=end_date, fields=[\"Close\"])\n",
    "close_prices = prices['FIBBG000B9XRY4']\n",
    "\n",
    "print('\\n',close_prices)"
   ]
  },
  {
   "cell_type": "code",
   "execution_count": 3,
   "id": "7a731ca8-2530-4f87-95a3-8af318d647c4",
   "metadata": {
    "tags": []
   },
   "outputs": [
    {
     "name": "stdout",
     "output_type": "stream",
     "text": [
      "Field  Date      \n",
      "Close  2023-01-03         NaN\n",
      "       2023-01-04    0.010314\n",
      "       2023-01-05   -0.010605\n",
      "       2023-01-06    0.036794\n",
      "       2023-01-09    0.004089\n",
      "                       ...   \n",
      "       2023-12-22   -0.005547\n",
      "       2023-12-26   -0.002841\n",
      "       2023-12-27    0.000518\n",
      "       2023-12-28    0.002226\n",
      "       2023-12-29   -0.005424\n",
      "Name: FIBBG000B9XRY4, Length: 250, dtype: float64\n",
      "[-1  1 -1  1  0  0  1  0  1  0  0  0  1  1  1  0  1  1 -1  0  0  1  1 -1\n",
      "  1 -1  0  0  1  0  1 -1  0 -1  0  0 -1  0  0 -1  0  1  1 -1  0 -1 -1  1\n",
      "  1  0  1  0  1  1  0  0  0 -1  0  1  0  1  0  0 -1  0 -1  0  0  1  0  0\n",
      "  0  0  0  0  0  0  0  1  0  0  0  0  0  1  0  0  1  0  0  0  0  0  1  0\n",
      "  0 -1  0  0  1  1  0  1  0  0  0  0  1  0  1  0  0  1  0  0  0  1  0  0\n",
      "  1  0  0  1  0  0  0  0 -1  0  0  0  0  1  0  0 -1  0  0  0  0  0  1  0\n",
      "  0 -1  0 -1 -1  0  0  0  0  0 -1  0 -1  0  0  0  1 -1  1  0  1  1  0  0\n",
      "  0 -1 -1  0  0 -1 -1  0  0  1  0 -1  0  0  0 -1  0  0  0  1  0  0  0  1\n",
      "  0  0  0  0 -1  0  0  0  0 -1  0  0 -1 -1  0  1  0  1  1  0  1  1  0  0\n",
      "  1  0  1  0  0  0  0  0  0  0  0  0  0  0  0  0  1  0  1  0 -1  0  1  0\n",
      "  0  0  0 -1  0  0  0  0  0  0]\n"
     ]
    }
   ],
   "source": [
    "# Step 2: Calculate daily returns and classify states\n",
    "returns = close_prices.pct_change()\n",
    "print(returns)\n",
    "states = np.where(returns >= 0.01, 1, np.where(returns > -0.01, 0, -1))\n",
    "print(states)"
   ]
  },
  {
   "cell_type": "code",
   "execution_count": 4,
   "id": "4938dd84-7632-487f-bbba-ba02dd066b0d",
   "metadata": {
    "tags": []
   },
   "outputs": [],
   "source": [
    "# Step 3: Implement the value function\n",
    "portfolio_value = 0\n",
    "state_transitions = np.zeros((3, 3))\n",
    "optimal_buy_indices = []\n",
    "\n",
    "for i in range(1, len(states)):\n",
    "    if states[i] == 1 and states[i-1] == 0:\n",
    "        portfolio_value += 1\n",
    "        optimal_buy_indices.append(i-1)\n",
    "    elif states[i] == -1 and states[i-1] == 0:\n",
    "        portfolio_value -= 1\n",
    "\n",
    "    state_transitions[states[i-1] + 1, states[i] + 1] += 1"
   ]
  },
  {
   "cell_type": "code",
   "execution_count": 5,
   "id": "553525bd-75e6-409b-9019-479cab8f0b14",
   "metadata": {
    "tags": []
   },
   "outputs": [
    {
     "name": "stdout",
     "output_type": "stream",
     "text": [
      "[[0.13888889 0.72222222 0.13888889]\n",
      " [0.14649682 0.59872611 0.25477707]\n",
      " [0.125      0.67857143 0.19642857]]\n"
     ]
    }
   ],
   "source": [
    "# Step 4: Calculate transition distribution\n",
    "transition_distribution = np.zeros_like(state_transitions)\n",
    "# Calculate transition distribution, handling division by zero\n",
    "for i in range(len(state_transitions)):\n",
    "    row_sum = np.sum(state_transitions[i])\n",
    "    if row_sum != 0:\n",
    "        transition_distribution[i] = state_transitions[i] / row_sum\n",
    "print(transition_distribution)"
   ]
  },
  {
   "cell_type": "code",
   "execution_count": 7,
   "id": "f0621d59-4882-4815-b3ec-093639a0405b",
   "metadata": {
    "tags": []
   },
   "outputs": [
    {
     "name": "stdout",
     "output_type": "stream",
     "text": [
      "Portfolio Value V(d): 17\n",
      "Optimal Index: [5, 7, 11, 15, 20, 27, 29, 40, 49, 51, 58, 60, 68, 78, 84, 87, 93, 99, 102, 107, 109, 112, 116, 119, 122, 132, 141, 159, 163, 176, 186, 190, 206, 208, 211, 215, 217, 231, 233, 237]\n",
      "Transition Distribution:\n",
      "          Bear      Flat      Bull\n",
      "Bear  0.138889  0.722222  0.138889\n",
      "Flat  0.146497  0.598726  0.254777\n",
      "Bull  0.125000  0.678571  0.196429\n"
     ]
    }
   ],
   "source": [
    "print(\"Portfolio Value V(d):\", portfolio_value)\n",
    "print(\"Optimal Index:\",optimal_buy_indices)\n",
    "print(\"Transition Distribution:\")\n",
    "print(pd.DataFrame(transition_distribution, index=['Bear', 'Flat', 'Bull'], columns=['Bear', 'Flat', 'Bull']))"
   ]
  },
  {
   "cell_type": "code",
   "execution_count": null,
   "id": "82d07d13-5050-4466-a81a-a83a11e9b9ff",
   "metadata": {},
   "outputs": [],
   "source": []
  }
 ],
 "metadata": {
  "kernelspec": {
   "display_name": "Python 3.9",
   "language": "python",
   "name": "python3"
  },
  "language_info": {
   "codemirror_mode": {
    "name": "ipython",
    "version": 3
   },
   "file_extension": ".py",
   "mimetype": "text/x-python",
   "name": "python",
   "nbconvert_exporter": "python",
   "pygments_lexer": "ipython3",
   "version": "3.9.7"
  }
 },
 "nbformat": 4,
 "nbformat_minor": 5
}
