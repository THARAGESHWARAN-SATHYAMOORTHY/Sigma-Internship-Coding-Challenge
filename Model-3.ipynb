{
 "cells": [
  {
   "cell_type": "code",
   "execution_count": 1,
   "id": "0f09b156-1c18-4e0f-aa57-9d6ea026272b",
   "metadata": {
    "tags": []
   },
   "outputs": [
    {
     "name": "stdout",
     "output_type": "stream",
     "text": [
      "Portfolio Value: 0\n",
      "Optimal Index: []\n",
      "Transition Distribution:\n",
      "      Bear  Flat  Bull\n",
      "Bear   0.0   1.0   0.0\n",
      "Flat   0.0   1.0   0.0\n",
      "Bull   0.0   0.0   0.0\n"
     ]
    }
   ],
   "source": [
    "from quantrocket import get_prices\n",
    "import pandas as pd\n",
    "import numpy as np\n",
    "\n",
    "class MarketModel:\n",
    "    def __init__(self, ticker, start_date, end_date):\n",
    "        self.ticker = ticker\n",
    "        self.start_date = start_date\n",
    "        self.end_date = end_date\n",
    "        self.close_prices = None\n",
    "        self.returns = None\n",
    "        self.states = None\n",
    "        self.state_transitions = None\n",
    "        self.portfolio_value = 0\n",
    "        self.optimal_buy_indices = []\n",
    "\n",
    "    def fetch_data(self):\n",
    "        apple_data = get_prices(\"usstock-free-1d\", universes=\"usstock-free\", start_date=self.start_date, end_date=self.end_date, fields=[\"Close\"])\n",
    "        self.close_prices = apple_data[self.ticker]\n",
    "\n",
    "    def calculate_returns(self):\n",
    "        self.returns = self.close_prices.pct_change()\n",
    "\n",
    "    def classify_states(self):\n",
    "        self.states = np.where(self.returns >= 0.01, 1, np.where(self.returns > -0.01, 0, -1))\n",
    "\n",
    "    def implement_value_function(self):\n",
    "        self.state_transitions = np.zeros((3, 3))\n",
    "        for i in range(1, len(self.states)):\n",
    "            if self.states[i] == 1 and self.states[i-1] == 0:\n",
    "                self.portfolio_value += 1\n",
    "                self.optimal_buy_indices.append(i)\n",
    "            elif self.states[i] == -1 and self.states[i-1] == 0:\n",
    "                self.portfolio_value -= 1\n",
    "            self.state_transitions[self.states[i-1] + 1, self.states[i] + 1] += 1\n",
    "\n",
    "    def calculate_transition_distribution(self):\n",
    "        self.transition_distribution = np.zeros_like(self.state_transitions)\n",
    "        for i in range(len(self.state_transitions)):\n",
    "            row_sum = np.sum(self.state_transitions[i])\n",
    "            if row_sum != 0:\n",
    "                self.transition_distribution[i] = self.state_transitions[i] / row_sum\n",
    "\n",
    "\n",
    "    def print_results(self):\n",
    "        print(\"Portfolio Value:\", self.portfolio_value)\n",
    "        print(\"Optimal Index:\", self.optimal_buy_indices)\n",
    "        print(\"Transition Distribution:\")\n",
    "        print(pd.DataFrame(self.transition_distribution, index=['Bear', 'Flat', 'Bull'], columns=['Bear', 'Flat', 'Bull']))\n",
    "        \n",
    "if __name__ == \"__main__\":\n",
    "    model = MarketModel('FIBBG000B9XRY4', '2023-01-01', '2023-12-31')\n",
    "    model.fetch_data()\n",
    "    model.calculate_returns()\n",
    "    model.classify_states()\n",
    "    model.implement_value_function()\n",
    "    model.calculate_transition_distribution()\n",
    "    model.print_results()\n"
   ]
  },
  {
   "cell_type": "code",
   "execution_count": 2,
   "id": "f1b6e367-215e-482c-bcf5-c4f9564c0cc0",
   "metadata": {
    "tags": []
   },
   "outputs": [
    {
     "name": "stdout",
     "output_type": "stream",
     "text": [
      "Portfolio Value: 3\n",
      "Optimal Index: [49, 56, 146]\n",
      "Transition Distribution:\n",
      "          Bear      Flat      Bull\n",
      "Bear  0.000000  1.000000  0.000000\n",
      "Flat  0.000000  0.987854  0.012146\n",
      "Bull  0.333333  0.666667  0.000000\n"
     ]
    }
   ],
   "source": [
    "    model = MarketModel('FIBBG000B9XRY4', '2020-01-01', '2020-12-31')\n",
    "    model.fetch_data()\n",
    "    model.calculate_returns()\n",
    "    model.classify_states()\n",
    "    model.implement_value_function()\n",
    "    model.calculate_transition_distribution()\n",
    "    model.print_results()"
   ]
  },
  {
   "cell_type": "code",
   "execution_count": 3,
   "id": "e7f01ff9-40aa-4012-9753-aaf8f440c4f6",
   "metadata": {
    "tags": []
   },
   "outputs": [
    {
     "name": "stdout",
     "output_type": "stream",
     "text": [
      "Portfolio Value: 0\n",
      "Optimal Index: []\n",
      "Transition Distribution:\n",
      "      Bear  Flat  Bull\n",
      "Bear   0.0   1.0   0.0\n",
      "Flat   0.0   1.0   0.0\n",
      "Bull   0.0   0.0   0.0\n"
     ]
    }
   ],
   "source": [
    "    model = MarketModel('FIBBG000B9XRY4', '2019-01-01', '2019-12-31')\n",
    "    model.fetch_data()\n",
    "    model.calculate_returns()\n",
    "    model.classify_states()\n",
    "    model.implement_value_function()\n",
    "    model.calculate_transition_distribution()\n",
    "    model.print_results()"
   ]
  },
  {
   "cell_type": "code",
   "execution_count": 4,
   "id": "6fe526a3-9217-4050-b689-58f1ffd4ddfa",
   "metadata": {
    "tags": []
   },
   "outputs": [
    {
     "name": "stdout",
     "output_type": "stream",
     "text": [
      "Portfolio Value: 3\n",
      "Optimal Index: [218, 448, 478, 3321, 3328, 3418]\n",
      "Transition Distribution:\n",
      "          Bear      Flat      Bull\n",
      "Bear  0.000000  1.000000  0.000000\n",
      "Flat  0.000703  0.997890  0.001406\n",
      "Bull  0.166667  0.833333  0.000000\n"
     ]
    }
   ],
   "source": [
    "    model = MarketModel('FIBBG000B9XRY4', '2007-01-01', '2023-12-31')\n",
    "    model.fetch_data()\n",
    "    model.calculate_returns()\n",
    "    model.classify_states()\n",
    "    model.implement_value_function()\n",
    "    model.calculate_transition_distribution()\n",
    "    model.print_results()"
   ]
  },
  {
   "cell_type": "code",
   "execution_count": null,
   "id": "066a44ed-b769-4f63-a724-2b80d5d43d8b",
   "metadata": {},
   "outputs": [],
   "source": []
  }
 ],
 "metadata": {
  "kernelspec": {
   "display_name": "Python 3.9",
   "language": "python",
   "name": "python3"
  },
  "language_info": {
   "codemirror_mode": {
    "name": "ipython",
    "version": 3
   },
   "file_extension": ".py",
   "mimetype": "text/x-python",
   "name": "python",
   "nbconvert_exporter": "python",
   "pygments_lexer": "ipython3",
   "version": "3.9.7"
  }
 },
 "nbformat": 4,
 "nbformat_minor": 5
}
