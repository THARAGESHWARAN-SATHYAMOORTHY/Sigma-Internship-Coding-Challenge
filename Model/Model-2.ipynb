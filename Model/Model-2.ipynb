{
 "cells": [
  {
   "cell_type": "code",
   "execution_count": 2,
   "id": "ed575266-a671-4f06-84f7-dc64a09455c7",
   "metadata": {
    "tags": []
   },
   "outputs": [],
   "source": [
    "import numpy as np\n",
    "import pandas as pd\n",
    "\n",
    "class TradingStrategySimulator:\n",
    "    def __init__(self):\n",
    "        pass\n",
    "\n",
    "    def simulate(self, close_prices):\n",
    "        returns = close_prices.pct_change()\n",
    "        states = np.where(returns >= 0.1, 1, np.where(returns > -0.1, 0, -1))\n",
    "\n",
    "        portfolio_value = 0\n",
    "        state_transitions = np.zeros((3, 3))  \n",
    "        optimal_buy_indices = []  \n",
    "\n",
    "        for i in range(1, len(states)):\n",
    "            if states[i] == 1 and states[i-1] == 0:  \n",
    "                portfolio_value += 1\n",
    "                optimal_buy_indices.append(i-1)\n",
    "            elif states[i] == -1 and states[i-1] == 0:\n",
    "                portfolio_value -= 1\n",
    "\n",
    "            state_transitions[states[i-1] + 1, states[i] + 1] += 1\n",
    "\n",
    "        transition_distribution = state_transitions / np.sum(state_transitions, axis=1)[:, None]\n",
    "\n",
    "        return transition_distribution, portfolio_value, optimal_buy_indices"
   ]
  },
  {
   "cell_type": "code",
   "execution_count": null,
   "id": "19d7421e-b736-4182-aad4-63185217a080",
   "metadata": {},
   "outputs": [],
   "source": []
  }
 ],
 "metadata": {
  "kernelspec": {
   "display_name": "Python 3.9",
   "language": "python",
   "name": "python3"
  },
  "language_info": {
   "codemirror_mode": {
    "name": "ipython",
    "version": 3
   },
   "file_extension": ".py",
   "mimetype": "text/x-python",
   "name": "python",
   "nbconvert_exporter": "python",
   "pygments_lexer": "ipython3",
   "version": "3.9.7"
  }
 },
 "nbformat": 4,
 "nbformat_minor": 5
}
