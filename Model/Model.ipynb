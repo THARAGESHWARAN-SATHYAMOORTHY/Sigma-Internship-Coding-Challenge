import numpy as np
import pandas as pd

class TradingStrategySimulator:
    def __init__(self):
        pass

    def simulate(self, close_prices):
        returns = close_prices.pct_change()
        states = np.where(returns >= 0.1, 1, np.where(returns > -0.1, 0, -1))

        portfolio_value = 0
        state_transitions = np.zeros((3, 3))  
        optimal_buy_indices = []  

        for i in range(1, len(states)):
            if states[i] == 1 and states[i-1] == 0:  
                portfolio_value += 1
                optimal_buy_indices.append(i-1)
            elif states[i] == -1 and states[i-1] == 0:
                portfolio_value -= 1

            state_transitions[states[i-1] + 1, states[i] + 1] += 1

        transition_distribution = state_transitions / np.sum(state_transitions, axis=1)[:, None]

        return transition_distribution, portfolio_value, optimal_buy_indices
