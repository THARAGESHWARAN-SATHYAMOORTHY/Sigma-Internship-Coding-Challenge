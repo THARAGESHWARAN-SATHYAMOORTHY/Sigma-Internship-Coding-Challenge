{
 "cells": [
  {
   "cell_type": "code",
   "execution_count": 8,
   "id": "46158b30-a119-4c9d-bb66-574d97ef25e1",
   "metadata": {
    "tags": []
   },
   "outputs": [],
   "source": [
    "import numpy as np\n",
    "from quantrocket import get_prices\n",
    "\n",
    "def ViterbiOptimalIndex(states, init, trans, emit, obs):\n",
    "    S = len(states)\n",
    "    T = len(obs)\n",
    "    \n",
    "    prob = np.zeros((T, S))\n",
    "    prev = np.zeros((T, S), dtype=int)\n",
    "    portfolio_value = 0\n",
    "    optimal_buy_indices = []\n",
    "    \n",
    "    # Initialization\n",
    "    for s in range(S):\n",
    "        prob[0][s] = init[s] * emit[s][obs[0]]\n",
    "    \n",
    "    # Forward algorithm\n",
    "    for t in range(1, T):\n",
    "        for s in range(S):\n",
    "            max_prob = 0\n",
    "            max_state = -1\n",
    "            for r in range(S):\n",
    "                new_prob = prob[t - 1][r] * trans[r][s] * emit[s][obs[t]]\n",
    "                if new_prob > max_prob:\n",
    "                    max_prob = new_prob\n",
    "                    max_state = r\n",
    "            prob[t][s] = max_prob\n",
    "            prev[t][s] = max_state\n",
    "    \n",
    "    # Backward algorithm to find optimal path\n",
    "    max_prob_last_state = 0\n",
    "    max_state_last_state = -1\n",
    "    for s in range(S):\n",
    "        if prob[T - 1][s] > max_prob_last_state:\n",
    "            max_prob_last_state = prob[T - 1][s]\n",
    "            max_state_last_state = s\n",
    "    \n",
    "    path = np.zeros(T, dtype=int)\n",
    "    path[T - 1] = max_state_last_state\n",
    "    for t in range(T - 1, 0, -1):\n",
    "        path[t - 1] = prev[t][path[t]]\n",
    "    \n",
    "    # Portfolio optimization\n",
    "    state_transitions = np.zeros((S, S))\n",
    "    for i in range(1, T):\n",
    "        if path[i] == 1 and path[i - 1] == 0 and trans[1][2] > trans[1][0]:\n",
    "            portfolio_value += 1\n",
    "            optimal_buy_indices.append(i - 1)\n",
    "            state_transitions[path[i - 1]][path[i]] += 1\n",
    "        elif path[i] == -1 and path[i - 1] == 0 and trans[0][1] > trans[0][2]:\n",
    "            portfolio_value -= 1\n",
    "            state_transitions[path[i - 1]][path[i]] += 1\n",
    "        else:\n",
    "            state_transitions[path[i - 1]][path[i]] += 1\n",
    "    \n",
    "    # Calculate transition distribution\n",
    "    transition_distribution = np.zeros((S, S))\n",
    "    for i in range(S):\n",
    "        total_sum = np.sum(state_transitions[i])\n",
    "        for j in range(S):\n",
    "            transition_distribution[i][j] = state_transitions[i][j] / total_sum\n",
    "    \n",
    "    return portfolio_value, optimal_buy_indices, transition_distribution\n"
   ]
  }
 ],
 "metadata": {
  "kernelspec": {
   "display_name": "Python 3.9",
   "language": "python",
   "name": "python3"
  },
  "language_info": {
   "codemirror_mode": {
    "name": "ipython",
    "version": 3
   },
   "file_extension": ".py",
   "mimetype": "text/x-python",
   "name": "python",
   "nbconvert_exporter": "python",
   "pygments_lexer": "ipython3",
   "version": "3.9.7"
  }
 },
 "nbformat": 4,
 "nbformat_minor": 5
}
